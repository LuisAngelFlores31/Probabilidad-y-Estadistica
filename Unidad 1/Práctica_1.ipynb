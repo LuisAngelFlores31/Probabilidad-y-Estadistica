{
  "nbformat": 4,
  "nbformat_minor": 0,
  "metadata": {
    "colab": {
      "provenance": [],
      "authorship_tag": "ABX9TyMxOm4acKBwauS7bVdL/1kR",
      "include_colab_link": true
    },
    "kernelspec": {
      "name": "python3",
      "display_name": "Python 3"
    },
    "language_info": {
      "name": "python"
    }
  },
  "cells": [
    {
      "cell_type": "markdown",
      "metadata": {
        "id": "view-in-github",
        "colab_type": "text"
      },
      "source": [
        "<a href=\"https://colab.research.google.com/github/LuisAngelFlores31/Probabilidad-y-Estadistica/blob/main/Unidad%201/Pr%C3%A1ctica_1.ipynb\" target=\"_parent\"><img src=\"https://colab.research.google.com/assets/colab-badge.svg\" alt=\"Open In Colab\"/></a>"
      ]
    },
    {
      "cell_type": "code",
      "execution_count": 47,
      "metadata": {
        "id": "GP2EIJtmvSNW"
      },
      "outputs": [],
      "source": []
    },
    {
      "cell_type": "markdown",
      "source": [
        "#Practica 1. Estadística descriptiva básica e Histogramas.\n",
        "\n",
        "##Facilitador: Dr. José Gabriel Rodríguez Rivas\n",
        "\n",
        "###Alumno:Luis Angel Flores Salazar"
      ],
      "metadata": {
        "id": "l-oXKPYIvz3S"
      }
    },
    {
      "cell_type": "code",
      "source": [
        "from statistics import *"
      ],
      "metadata": {
        "collapsed": true,
        "id": "eI_a5VcRwAPV"
      },
      "execution_count": 48,
      "outputs": []
    },
    {
      "cell_type": "code",
      "source": [
        "# Lista de calificaciones del grupo a de probabilidad y estadística\n",
        "grupoa = [70, 70, 65, 90, 100, 95, 45, 80, 73, 20, 100, 96]\n",
        "print(grupoa)"
      ],
      "metadata": {
        "colab": {
          "base_uri": "https://localhost:8080/"
        },
        "id": "L0vFR0lxwhk3",
        "outputId": "e9218b9f-adc9-4b24-f990-4c6691772e99"
      },
      "execution_count": 49,
      "outputs": [
        {
          "output_type": "stream",
          "name": "stdout",
          "text": [
            "[70, 70, 65, 90, 100, 95, 45, 80, 73, 20, 100, 96]\n"
          ]
        }
      ]
    },
    {
      "cell_type": "code",
      "source": [
        "# La función type nos devuelve el tipo de dato de la variable\n",
        "type(grupoa)"
      ],
      "metadata": {
        "colab": {
          "base_uri": "https://localhost:8080/"
        },
        "id": "43VDwnSkxMBc",
        "outputId": "f55372ce-480e-43e6-ae0c-f1e67511c203"
      },
      "execution_count": 50,
      "outputs": [
        {
          "output_type": "execute_result",
          "data": {
            "text/plain": [
              "list"
            ]
          },
          "metadata": {},
          "execution_count": 50
        }
      ]
    },
    {
      "cell_type": "code",
      "source": [
        "# Sacar la media de las calificaciones con una formula\n",
        "promedio = sum(grupoa) / len(grupoa)\n",
        "print(promedio)"
      ],
      "metadata": {
        "colab": {
          "base_uri": "https://localhost:8080/"
        },
        "id": "UfdpwnCIxycx",
        "outputId": "85570994-d27e-477d-8371-44c1aab6a148"
      },
      "execution_count": 51,
      "outputs": [
        {
          "output_type": "stream",
          "name": "stdout",
          "text": [
            "75.33333333333333\n"
          ]
        }
      ]
    },
    {
      "cell_type": "code",
      "source": [
        "# Determinar el valor de la mediana con la funcion median\n",
        "\n",
        "mediana = median(grupoa)\n",
        "print(mediana)"
      ],
      "metadata": {
        "colab": {
          "base_uri": "https://localhost:8080/"
        },
        "id": "J8fnDaUhx2Yk",
        "outputId": "4564d2c0-2bed-484f-f38d-4e658e6942f7"
      },
      "execution_count": 52,
      "outputs": [
        {
          "output_type": "stream",
          "name": "stdout",
          "text": [
            "76.5\n"
          ]
        }
      ]
    },
    {
      "cell_type": "code",
      "source": [
        "# Determinar el valor de la moda con la funcion mode\n",
        "moda = mode(grupoa)\n",
        "print(moda)"
      ],
      "metadata": {
        "id": "Y7pHObrKzQVA",
        "colab": {
          "base_uri": "https://localhost:8080/"
        },
        "outputId": "59a97eae-9318-449a-b700-5b75aa995685"
      },
      "execution_count": 53,
      "outputs": [
        {
          "output_type": "stream",
          "name": "stdout",
          "text": [
            "70\n"
          ]
        }
      ]
    },
    {
      "cell_type": "code",
      "source": [
        "\n",
        "# En caso de que exista mas de una moda, se puede emplear la funcion multimode par\n",
        "# Multiples modas que puedan existir\n",
        "moda2 = multimode(grupoa)\n",
        "print(moda2)"
      ],
      "metadata": {
        "colab": {
          "base_uri": "https://localhost:8080/"
        },
        "id": "Re0hJXx_z5OO",
        "outputId": "622909bd-9abf-4b5c-8c34-e48557bc49ab"
      },
      "execution_count": 54,
      "outputs": [
        {
          "output_type": "stream",
          "name": "stdout",
          "text": [
            "[70, 100]\n"
          ]
        }
      ]
    },
    {
      "cell_type": "code",
      "source": [
        "# Definimos una varaiable llamada tiempos100mts de tipo lista, que contiene los\n",
        "# tiempos que tardaron los 10 alumnos para correr los 100 metros\n",
        "tiempos100mts = [ 15.10, 17.20, 14.69, 13.27, 22.15, 18.71, 19.15, 20.65, 15.10, 17.20]\n",
        "# Desplegamos los valores de la lista\n",
        "print(tiempos100mts)"
      ],
      "metadata": {
        "colab": {
          "base_uri": "https://localhost:8080/"
        },
        "id": "6_1gPD3U0qGM",
        "outputId": "e4264ed0-acb6-49ab-b37c-8eb0d4f13590"
      },
      "execution_count": 55,
      "outputs": [
        {
          "output_type": "stream",
          "name": "stdout",
          "text": [
            "[15.1, 17.2, 14.69, 13.27, 22.15, 18.71, 19.15, 20.65, 15.1, 17.2]\n"
          ]
        }
      ]
    },
    {
      "cell_type": "code",
      "source": [
        "# Usamos la funcion mean para determinar el tiempo promedio de la lista de valores\n",
        "\n",
        "print(\"El tiempo promedio de los corredores es=>\", mean(tiempos100mts))"
      ],
      "metadata": {
        "colab": {
          "base_uri": "https://localhost:8080/"
        },
        "id": "7eB9JUSv1OMO",
        "outputId": "8fb1d5a6-91df-4c52-a553-cccfbf9e6738"
      },
      "execution_count": 56,
      "outputs": [
        {
          "output_type": "stream",
          "name": "stdout",
          "text": [
            "El tiempo promedio de los corredores es=> 17.322\n"
          ]
        }
      ]
    },
    {
      "cell_type": "code",
      "source": [
        "# Usamos la funcion median para determinar el tiempo promedio de la lista de valo\n",
        "\n",
        "#definimos una variable llammada mediana par calcular la mediana de la lista con\n",
        "# median\n",
        "mediana = median (tiempos100mts)\n",
        "print(\"La media de los tiempos de los corredores es=>\", mediana)"
      ],
      "metadata": {
        "colab": {
          "base_uri": "https://localhost:8080/"
        },
        "id": "MoaLQvRQ1d3G",
        "outputId": "997a130b-da7b-4a7a-ed4b-b31baa51e6f9"
      },
      "execution_count": 57,
      "outputs": [
        {
          "output_type": "stream",
          "name": "stdout",
          "text": [
            "La media de los tiempos de los corredores es=> 17.2\n"
          ]
        }
      ]
    },
    {
      "cell_type": "code",
      "source": [
        "moda = mode(tiempos100mts)\n",
        "print(\"La moda de los tiempos es=>\", moda)"
      ],
      "metadata": {
        "colab": {
          "base_uri": "https://localhost:8080/"
        },
        "id": "aXlCnHf_1_4b",
        "outputId": "97d35bad-aaa8-441b-a0cb-f209c679cee1"
      },
      "execution_count": 58,
      "outputs": [
        {
          "output_type": "stream",
          "name": "stdout",
          "text": [
            "La moda de los tiempos es=> 15.1\n"
          ]
        }
      ]
    },
    {
      "cell_type": "code",
      "source": [
        "multimodas = multimode(tiempos100mts)\n",
        "print(\"La moda de los tiempos es=>\", multimodas)"
      ],
      "metadata": {
        "colab": {
          "base_uri": "https://localhost:8080/"
        },
        "id": "HDEcMqoD2QlE",
        "outputId": "f9ffeb81-726a-45cf-e903-9d417d805015"
      },
      "execution_count": 59,
      "outputs": [
        {
          "output_type": "stream",
          "name": "stdout",
          "text": [
            "La moda de los tiempos es=> [15.1, 17.2]\n"
          ]
        }
      ]
    },
    {
      "cell_type": "code",
      "source": [
        "import random"
      ],
      "metadata": {
        "id": "dupw-KKp2gUu"
      },
      "execution_count": 60,
      "outputs": []
    },
    {
      "cell_type": "code",
      "source": [
        "fabrical = []\n",
        "for i in range(100):\n",
        "  numero_aleatorio = round(random.uniform(50, 100), 2)\n",
        "  fabrical.append(numero_aleatorio)\n",
        "print(fabrical)"
      ],
      "metadata": {
        "colab": {
          "base_uri": "https://localhost:8080/"
        },
        "id": "cyc1Iiqm3RgO",
        "outputId": "24b250da-f76b-429d-d581-50589bd98bdd"
      },
      "execution_count": 61,
      "outputs": [
        {
          "output_type": "stream",
          "name": "stdout",
          "text": [
            "[87.11, 79.48, 61.6, 83.52, 78.22, 83.56, 93.17, 72.96, 84.0, 66.99, 71.04, 86.04, 77.07, 57.82, 93.66, 72.96, 80.04, 60.57, 57.5, 62.36, 71.14, 70.21, 58.13, 82.92, 92.94, 93.7, 52.23, 71.15, 85.45, 75.57, 69.27, 58.23, 88.54, 84.74, 85.45, 60.75, 75.29, 74.23, 61.55, 95.77, 94.19, 70.5, 84.05, 78.48, 56.74, 97.65, 88.27, 70.9, 66.17, 56.42, 63.37, 73.47, 71.68, 51.78, 76.47, 82.24, 93.86, 57.78, 63.81, 73.03, 72.22, 72.55, 61.83, 53.85, 96.82, 67.54, 94.88, 97.69, 90.07, 87.42, 60.77, 87.46, 96.3, 65.73, 71.45, 80.39, 96.94, 67.64, 91.29, 56.12, 97.29, 89.63, 68.24, 76.09, 57.03, 57.66, 99.09, 59.82, 83.91, 57.16, 84.81, 71.52, 55.35, 61.44, 91.9, 76.54, 92.54, 69.76, 91.43, 64.24]\n"
          ]
        }
      ]
    },
    {
      "cell_type": "code",
      "source": [
        "fabrical2 = []\n",
        "for i in range(100):\n",
        "  numero_aleatorio = round(random.uniform(50, 100), 2)\n",
        "  fabrical2.append(numero_aleatorio)\n",
        "print(fabrical2)"
      ],
      "metadata": {
        "colab": {
          "base_uri": "https://localhost:8080/"
        },
        "id": "mVl-KkdG4Y7I",
        "outputId": "2d60328d-e41f-4392-8529-ced9c12930f5"
      },
      "execution_count": 62,
      "outputs": [
        {
          "output_type": "stream",
          "name": "stdout",
          "text": [
            "[62.16, 87.68, 83.25, 62.87, 60.36, 81.71, 93.31, 70.91, 69.66, 87.12, 64.49, 56.65, 99.65, 81.38, 64.77, 77.06, 81.96, 69.58, 80.76, 76.78, 87.18, 77.8, 60.07, 57.2, 71.44, 52.97, 85.25, 96.43, 88.04, 82.91, 90.6, 57.04, 66.08, 83.19, 56.95, 83.41, 53.7, 88.59, 87.83, 52.64, 51.61, 90.0, 62.15, 70.37, 86.14, 74.99, 66.11, 61.21, 58.67, 93.01, 73.1, 84.45, 68.29, 92.25, 80.91, 91.31, 67.66, 62.02, 68.21, 74.66, 95.4, 78.61, 75.97, 85.25, 62.62, 85.91, 52.55, 75.32, 54.39, 89.91, 92.64, 92.28, 58.41, 61.91, 54.68, 65.26, 73.97, 50.52, 61.7, 94.34, 55.71, 65.63, 60.79, 97.3, 92.14, 90.66, 56.88, 72.35, 68.36, 94.12, 66.62, 99.97, 91.3, 98.22, 65.14, 88.38, 76.67, 81.95, 95.13, 65.11]\n"
          ]
        }
      ]
    },
    {
      "cell_type": "code",
      "source": [
        "import matplotlib.pyplot as plt"
      ],
      "metadata": {
        "id": "5nLqQrBP5JNX"
      },
      "execution_count": 63,
      "outputs": []
    },
    {
      "cell_type": "code",
      "source": [
        "plt.hist(fabrical)\n",
        "plt.title(\"Producción diara de la Fabrica 1\")"
      ],
      "metadata": {
        "id": "oGT4x3rS5LXh",
        "outputId": "0f2acdc4-d2db-4317-f2a1-8a39658b0311",
        "colab": {
          "base_uri": "https://localhost:8080/",
          "height": 269
        }
      },
      "execution_count": 64,
      "outputs": [
        {
          "output_type": "execute_result",
          "data": {
            "text/plain": [
              "Text(0.5, 1.0, 'Producción diara de la Fabrica 1')"
            ]
          },
          "metadata": {},
          "execution_count": 64
        },
        {
          "output_type": "display_data",
          "data": {
            "text/plain": [
              "<Figure size 640x480 with 1 Axes>"
            ],
            "image/png": "[encoded data removed]"
          },
          "metadata": {}
        }
      ]
    },
    {
      "cell_type": "code",
      "source": [
        "plt.hist(fabrical2)\n",
        "plt.title(\"Producción diara de la Fabrica 1\")"
      ],
      "metadata": {
        "colab": {
          "base_uri": "https://localhost:8080/",
          "height": 269
        },
        "id": "DpWzdl344xYp",
        "outputId": "9226eeeb-9485-4ad0-d29d-1476ce7e2608"
      },
      "execution_count": 65,
      "outputs": [
        {
          "output_type": "execute_result",
          "data": {
            "text/plain": [
              "Text(0.5, 1.0, 'Producción diara de la Fabrica 1')"
            ]
          },
          "metadata": {},
          "execution_count": 65
        },
        {
          "output_type": "display_data",
          "data": {
            "text/plain": [
              "<Figure size 640x480 with 1 Axes>"
            ],
            "image/png": "[encoded data removed]"
          },
          "metadata": {}
        }
      ]
    },
    {
      "cell_type": "code",
      "source": [
        "media1 = mean(fabrical)\n",
        "mediana1 = median(fabrical)\n",
        "moda1 = mode(fabrical)\n",
        "\n",
        "print(\"Valores de la fabrica 1\")\n",
        "print(\"La media es =\",media1)\n",
        "print(\"la mediana es =\",mediana1)\n",
        "print(\"la moda es =\",moda1)"
      ],
      "metadata": {
        "colab": {
          "base_uri": "https://localhost:8080/"
        },
        "id": "sq7ArVeU57YW",
        "outputId": "05b0b110-f0ce-4694-e90a-7b669e13e6b3"
      },
      "execution_count": 66,
      "outputs": [
        {
          "output_type": "stream",
          "name": "stdout",
          "text": [
            "Valores de la fabrica 1\n",
            "La media es = 75.622\n",
            "la mediana es = 73.85\n",
            "la moda es = 72.96\n"
          ]
        }
      ]
    },
    {
      "cell_type": "code",
      "source": [
        "media2 = mean(fabrical2)\n",
        "mediana2 = median(fabrical2)\n",
        "moda2 = mode(fabrical2)\n",
        "\n",
        "print(\"Valores de la fabrica 2\")\n",
        "print(\"La media es =\",media2)\n",
        "print(\"la mediana es =\",mediana2)\n",
        "print(\"la moda es =\",moda2)"
      ],
      "metadata": {
        "colab": {
          "base_uri": "https://localhost:8080/"
        },
        "id": "Wt7QczPd62rM",
        "outputId": "03ed19c5-2883-450c-fb77-e8cfdd5ffb8d"
      },
      "execution_count": 67,
      "outputs": [
        {
          "output_type": "stream",
          "name": "stdout",
          "text": [
            "Valores de la fabrica 2\n",
            "La media es = 75.1262\n",
            "la mediana es = 75.155\n",
            "la moda es = 85.25\n"
          ]
        }
      ]
    },
    {
      "cell_type": "code",
      "source": [
        "fig, (ax1, ax2) = plt.subplots (nrows =1, ncols=2, figsize=(10,5))\n",
        "ax1.hist(fabrical)\n",
        "ax2.hist(fabrical2)\n",
        "plt.show()"
      ],
      "metadata": {
        "colab": {
          "base_uri": "https://localhost:8080/",
          "height": 158
        },
        "id": "6ez4oxhW7Wio",
        "outputId": "eb18d0d4-eaa1-4620-830d-40f6af5a5be0"
      },
      "execution_count": 68,
      "outputs": [
        {
          "output_type": "display_data",
          "data": {
            "text/plain": [
              "<Figure size 1000x500 with 2 Axes>"
            ],
            "image/png": "[encoded data removed]"
          },
          "metadata": {}
        }
      ]
    },
    {
      "cell_type": "code",
      "source": [
        "plt.hist(fabrical, bins=10, alpha=0.2, color='b', edgecolor = \"black\")\n",
        "plt.axvline(media1, color='b', linestyle='dashed', linewidth=2, label='Media')\n",
        "plt.axvline(mediana1, color='r', linestyle='dashed', linewidth=2, label='Mediana')\n",
        "plt.axvline (moda1, color='y', linestyle='dashed', linewidth=2, label='Moda')\n",
        "plt.xlabel('Valor')\n",
        "plt.ylabel('Frecuencia')\n",
        "plt.title(\"Producción diaria de la fabrica 1\")\n",
        "plt.legend()\n",
        "plt.show()"
      ],
      "metadata": {
        "colab": {
          "base_uri": "https://localhost:8080/",
          "height": 236
        },
        "id": "iJFjE1f-8vTX",
        "outputId": "2d06ccc3-1122-42b6-d95a-fc082852d2f2"
      },
      "execution_count": 70,
      "outputs": [
        {
          "output_type": "display_data",
          "data": {
            "text/plain": [
              "<Figure size 640x480 with 1 Axes>"
            ],
            "image/png": "[encoded data removed]"
          },
          "metadata": {}
        }
      ]
    },
    {
      "cell_type": "code",
      "source": [
        "plt.hist(fabrical2, bins=10, alpha=0.2, color='b', edgecolor = \"black\")\n",
        "plt.axvline(media1, color='b', linestyle='dashed', linewidth=2, label='Media')\n",
        "plt.axvline(mediana2, color='r', linestyle='dashed', linewidth=2, label='Mediana')\n",
        "plt.axvline (moda2, color='y', linestyle='dashed', linewidth=2, label='Moda')\n",
        "plt.xlabel('Valor')\n",
        "plt.ylabel('Frecuencia')\n",
        "plt.title(\"Producción diaria de la fabrica 1\")\n",
        "plt.legend()\n",
        "plt.show()"
      ],
      "metadata": {
        "colab": {
          "base_uri": "https://localhost:8080/",
          "height": 236
        },
        "id": "vBllptnH9WSF",
        "outputId": "18cb90e3-4b58-4936-b3a1-d3ea1faace72"
      },
      "execution_count": 82,
      "outputs": [
        {
          "output_type": "display_data",
          "data": {
            "text/plain": [
              "<Figure size 640x480 with 1 Axes>"
            ],
            "image/png": "[encoded data removed]"
          },
          "metadata": {}
        }
      ]
    }
  ]
}