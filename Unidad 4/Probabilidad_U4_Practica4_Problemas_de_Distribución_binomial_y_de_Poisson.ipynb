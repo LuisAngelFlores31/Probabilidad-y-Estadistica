{
  "nbformat": 4,
  "nbformat_minor": 0,
  "metadata": {
    "colab": {
      "provenance": [],
      "authorship_tag": "ABX9TyPHIFU/e2HAwVgKoMnA9V8u",
      "include_colab_link": true
    },
    "kernelspec": {
      "name": "python3",
      "display_name": "Python 3"
    },
    "language_info": {
      "name": "python"
    }
  },
  "cells": [
    {
      "cell_type": "markdown",
      "metadata": {
        "id": "view-in-github",
        "colab_type": "text"
      },
      "source": [
        "<a href=\"https://colab.research.google.com/github/LuisAngelFlores31/Probabilidad-y-Estadistica/blob/main/Unidad%204/Probabilidad_U4_Practica4_Problemas_de_Distribuci%C3%B3n_binomial_y_de_Poisson.ipynb\" target=\"_parent\"><img src=\"https://colab.research.google.com/assets/colab-badge.svg\" alt=\"Open In Colab\"/></a>"
      ]
    },
    {
      "cell_type": "markdown",
      "source": [
        "##Probabilidad y Estadística\n",
        "#Unidad 4\n",
        "Alumno: Luis Angel Flores Salazar\n",
        "\n",
        "Docente: Dr. José Gabriel Rodríguez Rivas"
      ],
      "metadata": {
        "id": "ZmBAvURA4mXc"
      }
    },
    {
      "cell_type": "markdown",
      "source": [
        "#Practica 3: Problemas de Distribución binomial y de Poisson.\n",
        "\n",
        "Problema 1"
      ],
      "metadata": {
        "id": "La3CJrG_4pi5"
      }
    },
    {
      "cell_type": "markdown",
      "source": [
        "Este problema se clasifica como un modelo de Poisson porque se enfoca en contar cuántos eventos (en este caso, personas que ingresan) ocurren dentro de un periodo de tiempo determinado (un día). Estos eventos cumplen con las siguientes condiciones:\n",
        "\n",
        "•Suceden de manera independiente unos de otros.\n",
        "\n",
        "•Se producen con una tasa promedio constante (λ = 5).\n",
        "\n",
        "|Ocurren de forma aleatoria en el tiempo."
      ],
      "metadata": {
        "id": "LusYSmU75E_h"
      }
    },
    {
      "cell_type": "code",
      "source": [
        "from scipy.stats import poisson\n",
        "\n",
        "# Valor promedio (lambda) de la distribución de Poisson\n",
        "tasa_promedio = 5\n",
        "\n",
        "# a) Probabilidad de que exactamente 2 personas ingresen\n",
        "probabilidad_dos = poisson.pmf(2, tasa_promedio)\n",
        "print(\"a) Probabilidad de que ingresen exactamente 2 personas:\", probabilidad_dos)\n",
        "\n",
        "# b) ¿Es probable que el número de personas supere las 10?\n",
        "# Se calcula como P(X > 10) = 1 - P(X ≤ 10)\n",
        "probabilidad_mas_de_diez = 1 - poisson.cdf(10, tasa_promedio)\n",
        "print(\"b) Probabilidad de que ingresen más de 10 personas:\", probabilidad_mas_de_diez)\n",
        "\n",
        "# Interpretación sencilla para el inciso b)\n",
        "if probabilidad_mas_de_diez < 0.05:\n",
        "    print(\"→ Es poco probable que ingresen más de 10 personas (menos del 5%)\")\n",
        "else:\n",
        "    print(\"→ Es bastante probable que ingresen más de 10 personas (más del 5%)\")"
      ],
      "metadata": {
        "colab": {
          "base_uri": "https://localhost:8080/"
        },
        "id": "zaMuDqXs5qPP",
        "outputId": "ee0b3671-9dab-402f-c51a-e6ca259d5ac2"
      },
      "execution_count": 1,
      "outputs": [
        {
          "output_type": "stream",
          "name": "stdout",
          "text": [
            "a) Probabilidad de que ingresen exactamente 2 personas: 0.08422433748856832\n",
            "b) Probabilidad de que ingresen más de 10 personas: 0.013695268598382881\n",
            "→ Es poco probable que ingresen más de 10 personas (menos del 5%)\n"
          ]
        }
      ]
    },
    {
      "cell_type": "markdown",
      "source": [
        "Determinamos la probabilidad de que ingresen más de 10 personas en un día aplicando la distribución de Poisson con una media de 5. Para obtener este valor, se resta la probabilidad acumulada de que ingresen 10 personas o menos al total (1 − P(X ≤ 10)).\n",
        "\n",
        "El resultado obtenido es una probabilidad bastante baja, lo cual sugiere que es poco probable que ingresen más de 10 personas en un día."
      ],
      "metadata": {
        "id": "BXkvKOAb7BuE"
      }
    },
    {
      "cell_type": "markdown",
      "source": [
        "______________________________________"
      ],
      "metadata": {
        "id": "j-KjxZHr7Mdv"
      }
    },
    {
      "cell_type": "markdown",
      "source": [
        "#Problema 2\n",
        "Este problema es de tipo Binomial.\n",
        "\n",
        "¿Por qué?\n",
        "\n",
        "•Hay un número fijo de intentos: 1,000 motores.        \n",
        "•Cada motor tiene solo dos posibles resultados: defectuoso o no defectuoso.        \n",
        "•La probabilidad de que un motor sea defectuoso es constante: p = 0.001.    \n",
        "•Los eventos (motores) son independientes."
      ],
      "metadata": {
        "id": "cR2E28357RtA"
      }
    },
    {
      "cell_type": "code",
      "source": [
        "from scipy.stats import binom\n",
        "\n",
        "# Parámetros de la distribución binomial\n",
        "n = 1000        # Tamaño del lote\n",
        "p = 0.001       # Probabilidad de que un motor sea defectuoso\n",
        "\n",
        "# a) Probabilidad de que ninguno sea defectuoso\n",
        "prob_0 = binom.pmf(0, n, p)\n",
        "print(\"a) Probabilidad de que ninguno sea defectuoso:\", prob_0)\n",
        "\n",
        "# b) Probabilidad de que tres sean defectuosos\n",
        "prob_3 = binom.pmf(3, n, p)\n",
        "print(\"b) Probabilidad de que tres sean defectuosos:\", prob_3)\n",
        "\n",
        "# c) Probabilidad de que cuatro sean defectuosos\n",
        "prob_4 = binom.pmf(4, n, p)\n",
        "print(\"c) Probabilidad de que cuatro sean defectuosos:\", prob_4)"
      ],
      "metadata": {
        "colab": {
          "base_uri": "https://localhost:8080/"
        },
        "id": "6tX8jaPY7mPR",
        "outputId": "ea4c8301-1310-4968-a45f-c0f27423c9e4"
      },
      "execution_count": 2,
      "outputs": [
        {
          "output_type": "stream",
          "name": "stdout",
          "text": [
            "a) Probabilidad de que ninguno sea defectuoso: 0.3676954247709639\n",
            "b) Probabilidad de que tres sean defectuosos: 0.061282509389840666\n",
            "c) Probabilidad de que cuatro sean defectuosos: 0.015289955420838651\n"
          ]
        }
      ]
    }
  ]
}