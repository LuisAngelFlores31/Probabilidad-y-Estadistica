{
  "nbformat": 4,
  "nbformat_minor": 0,
  "metadata": {
    "colab": {
      "provenance": [],
      "authorship_tag": "ABX9TyNhY2ooW03eD4SWJZ9SHCg4",
      "include_colab_link": true
    },
    "kernelspec": {
      "name": "python3",
      "display_name": "Python 3"
    },
    "language_info": {
      "name": "python"
    }
  },
  "cells": [
    {
      "cell_type": "markdown",
      "metadata": {
        "id": "view-in-github",
        "colab_type": "text"
      },
      "source": [
        "<a href=\"https://colab.research.google.com/github/LuisAngelFlores31/Probabilidad-y-Estadistica/blob/main/Pr%C3%A1ctica_1.ipynb\" target=\"_parent\"><img src=\"https://colab.research.google.com/assets/colab-badge.svg\" alt=\"Open In Colab\"/></a>"
      ]
    },
    {
      "cell_type": "code",
      "execution_count": null,
      "metadata": {
        "id": "GP2EIJtmvSNW"
      },
      "outputs": [],
      "source": []
    },
    {
      "cell_type": "markdown",
      "source": [
        "Practica 1. Estadística descriptiva básica e Histogramas.\n",
        "\n",
        "Facilitador: Dr. José Gabriel Rodríguez Rivas\n",
        "\n",
        "Alumno:Luis Angel Flores Salazar"
      ],
      "metadata": {
        "id": "l-oXKPYIvz3S"
      }
    },
    {
      "cell_type": "code",
      "source": [
        "from statistics import *"
      ],
      "metadata": {
        "collapsed": true,
        "id": "eI_a5VcRwAPV"
      },
      "execution_count": null,
      "outputs": []
    },
    {
      "cell_type": "code",
      "source": [
        "# Lista de calificaciones del grupo a de probabilidad y estadística\n",
        "grupoa = [70, 70, 65, 90, 100, 95, 45, 80, 73, 20, 100, 96]\n",
        "print(grupoa)"
      ],
      "metadata": {
        "colab": {
          "base_uri": "https://localhost:8080/"
        },
        "id": "L0vFR0lxwhk3",
        "outputId": "31b8864e-7657-44ac-be0b-73d25b9a9a75"
      },
      "execution_count": null,
      "outputs": [
        {
          "output_type": "stream",
          "name": "stdout",
          "text": [
            "[70, 70, 65, 90, 100, 95, 45, 80, 73, 20, 100, 96]\n"
          ]
        }
      ]
    },
    {
      "cell_type": "code",
      "source": [
        "# La función type nos devuelve el tipo de dato de la variable\n",
        "type(grupoa)"
      ],
      "metadata": {
        "colab": {
          "base_uri": "https://localhost:8080/"
        },
        "id": "43VDwnSkxMBc",
        "outputId": "9ed37331-fe77-4950-b631-51d722ad73e2"
      },
      "execution_count": null,
      "outputs": [
        {
          "output_type": "execute_result",
          "data": {
            "text/plain": [
              "list"
            ]
          },
          "metadata": {},
          "execution_count": 12
        }
      ]
    },
    {
      "cell_type": "code",
      "source": [
        "# Sacar la media de las calificaciones con una formula\n",
        "promedio = sum(grupoa) / len(grupoa)\n",
        "print(promedio)"
      ],
      "metadata": {
        "colab": {
          "base_uri": "https://localhost:8080/"
        },
        "id": "UfdpwnCIxycx",
        "outputId": "a93f2c0b-9b1f-4284-8dab-6f0ade4f1daa"
      },
      "execution_count": null,
      "outputs": [
        {
          "output_type": "stream",
          "name": "stdout",
          "text": [
            "75.33333333333333\n"
          ]
        }
      ]
    },
    {
      "cell_type": "code",
      "source": [
        "# Determinar el valor de la mediana con la funcion median\n",
        "\n",
        "mediana = median(grupoa)\n",
        "print(mediana)"
      ],
      "metadata": {
        "colab": {
          "base_uri": "https://localhost:8080/"
        },
        "id": "J8fnDaUhx2Yk",
        "outputId": "108b2bc4-aad1-45be-ded1-1ea26db663d7"
      },
      "execution_count": null,
      "outputs": [
        {
          "output_type": "stream",
          "name": "stdout",
          "text": [
            "76.5\n"
          ]
        }
      ]
    },
    {
      "cell_type": "code",
      "source": [
        "# Determinar el valor de la moda con la funcion mode\n",
        "moda = mode(grupoa)\n",
        "print(moda)"
      ],
      "metadata": {
        "id": "Y7pHObrKzQVA",
        "colab": {
          "base_uri": "https://localhost:8080/"
        },
        "outputId": "8da4e2d0-01f4-4c49-bb9f-aef870a317c4"
      },
      "execution_count": 18,
      "outputs": [
        {
          "output_type": "stream",
          "name": "stdout",
          "text": [
            "70\n"
          ]
        }
      ]
    },
    {
      "cell_type": "code",
      "source": [
        "\n",
        "# En caso de que exista mas de una moda, se puede emplear la funcion multimode par\n",
        "# Multiples modas que puedan existir\n",
        "moda2 = multimode(grupoa)\n",
        "print(moda2)"
      ],
      "metadata": {
        "colab": {
          "base_uri": "https://localhost:8080/"
        },
        "id": "Re0hJXx_z5OO",
        "outputId": "203dbde8-e9c8-42fc-efc6-bfdfcdb2ae4c"
      },
      "execution_count": 20,
      "outputs": [
        {
          "output_type": "stream",
          "name": "stdout",
          "text": [
            "[70, 100]\n"
          ]
        }
      ]
    },
    {
      "cell_type": "code",
      "source": [
        "# Definimos una varaiable llamada tiempos100mts de tipo lista, que contiene los\n",
        "# tiempos que tardaron los 10 alumnos para correr los 100 metros\n",
        "tiempos100mts = [ 15.10, 17.20, 14.69, 13.27, 22.15, 18.71, 19.15, 20.65, 15.10, 17.20]\n",
        "# Desplegamos los valores de la lista\n",
        "print(tiempos100mts)"
      ],
      "metadata": {
        "colab": {
          "base_uri": "https://localhost:8080/"
        },
        "id": "6_1gPD3U0qGM",
        "outputId": "48b01384-ae24-47be-efd5-c8fdefe5427b"
      },
      "execution_count": 21,
      "outputs": [
        {
          "output_type": "stream",
          "name": "stdout",
          "text": [
            "[15.1, 17.2, 14.69, 13.27, 22.15, 18.71, 19.15, 20.65, 15.1, 17.2]\n"
          ]
        }
      ]
    },
    {
      "cell_type": "code",
      "source": [
        "# Usamos la funcion mean para determinar el tiempo promedio de la lista de valores\n",
        "\n",
        "print(\"El tiempo promedio de los corredores es=>\", mean(tiempos100mts))"
      ],
      "metadata": {
        "colab": {
          "base_uri": "https://localhost:8080/"
        },
        "id": "7eB9JUSv1OMO",
        "outputId": "8729c45f-8d44-43ca-9bd9-43923b56e01d"
      },
      "execution_count": 22,
      "outputs": [
        {
          "output_type": "stream",
          "name": "stdout",
          "text": [
            "El tiempo promedio de los corredores es=> 17.322\n"
          ]
        }
      ]
    },
    {
      "cell_type": "code",
      "source": [
        "# Usamos la funcion median para determinar el tiempo promedio de la lista de valo\n",
        "\n",
        "#definimos una variable llammada mediana par calcular la mediana de la lista con\n",
        "# median\n",
        "mediana = median (tiempos100mts)\n",
        "print(\"La media de los tiempos de los corredores es=>\", mediana)"
      ],
      "metadata": {
        "colab": {
          "base_uri": "https://localhost:8080/"
        },
        "id": "MoaLQvRQ1d3G",
        "outputId": "1d94fba0-a5ff-4af0-a89c-0f1dd0eccc90"
      },
      "execution_count": 25,
      "outputs": [
        {
          "output_type": "stream",
          "name": "stdout",
          "text": [
            "La media de los tiempos de los corredores es=> 17.2\n"
          ]
        }
      ]
    },
    {
      "cell_type": "code",
      "source": [
        "moda = mode(tiempos100mts)\n",
        "print(\"La moda de los tiempos es=>\", moda)"
      ],
      "metadata": {
        "colab": {
          "base_uri": "https://localhost:8080/"
        },
        "id": "aXlCnHf_1_4b",
        "outputId": "a39180b4-4058-4434-a5dd-d7c91d8032d5"
      },
      "execution_count": 27,
      "outputs": [
        {
          "output_type": "stream",
          "name": "stdout",
          "text": [
            "La moda de los tiempos es=> 15.1\n"
          ]
        }
      ]
    },
    {
      "cell_type": "code",
      "source": [
        "multimodas = multimode(tiempos100mts)\n",
        "print(\"La moda de los tiempos es=>\", multimodas)"
      ],
      "metadata": {
        "colab": {
          "base_uri": "https://localhost:8080/"
        },
        "id": "HDEcMqoD2QlE",
        "outputId": "21c1a85e-d58b-4de1-803f-2fef3d30a4e6"
      },
      "execution_count": 28,
      "outputs": [
        {
          "output_type": "stream",
          "name": "stdout",
          "text": [
            "La moda de los tiempos es=> [15.1, 17.2]\n"
          ]
        }
      ]
    },
    {
      "cell_type": "code",
      "source": [
        "import random"
      ],
      "metadata": {
        "id": "dupw-KKp2gUu"
      },
      "execution_count": 31,
      "outputs": []
    },
    {
      "cell_type": "code",
      "source": [
        "fabrical = []\n",
        "for i in range(100):\n",
        "  numero_aleatorio = round(random.uniform(50, 100), 2)\n",
        "  fabrical.append(numero_aleatorio)\n",
        "print(fabrical)"
      ],
      "metadata": {
        "colab": {
          "base_uri": "https://localhost:8080/"
        },
        "id": "cyc1Iiqm3RgO",
        "outputId": "bacc6acc-2af5-4dba-b3a9-9ee167e4281e"
      },
      "execution_count": 32,
      "outputs": [
        {
          "output_type": "stream",
          "name": "stdout",
          "text": [
            "[85.97, 96.56, 54.97, 84.04, 54.15, 69.85, 88.3, 67.75, 53.01, 87.83, 86.54, 71.03, 85.98, 53.14, 67.06, 93.89, 93.56, 52.02, 76.19, 70.88, 99.0, 75.66, 62.95, 51.48, 88.67, 64.73, 77.98, 58.4, 62.62, 96.64, 83.99, 56.52, 72.91, 58.09, 82.72, 65.54, 51.77, 95.24, 90.19, 93.43, 94.98, 81.5, 73.89, 85.12, 93.49, 53.21, 70.16, 94.94, 79.9, 57.49, 57.1, 96.31, 70.65, 79.69, 56.04, 77.14, 86.33, 79.05, 99.05, 64.17, 92.47, 72.16, 67.9, 61.07, 85.55, 57.19, 93.83, 90.7, 99.01, 59.98, 63.47, 78.75, 98.36, 67.0, 99.38, 87.85, 53.63, 99.09, 71.21, 65.81, 98.39, 80.99, 92.59, 77.88, 70.4, 81.29, 63.18, 92.04, 88.38, 78.36, 58.63, 70.37, 99.07, 87.59, 79.63, 81.3, 89.81, 65.48, 74.49, 79.45]\n"
          ]
        }
      ]
    },
    {
      "cell_type": "code",
      "source": [
        "fabrical2 = []\n",
        "for i in range(100):\n",
        "  numero_aleatorio = round(random.uniform(50, 100), 2)\n",
        "  fabrical2.append(numero_aleatorio)\n",
        "print(fabrical2)"
      ],
      "metadata": {
        "colab": {
          "base_uri": "https://localhost:8080/"
        },
        "id": "mVl-KkdG4Y7I",
        "outputId": "2b5191e9-5927-4663-ae59-87be6895fc03"
      },
      "execution_count": 33,
      "outputs": [
        {
          "output_type": "stream",
          "name": "stdout",
          "text": [
            "[97.65, 87.24, 88.52, 94.72, 74.7, 51.61, 73.31, 65.09, 55.42, 75.27, 67.62, 80.43, 52.0, 59.11, 52.48, 93.52, 67.91, 93.48, 51.77, 85.68, 88.94, 91.09, 50.05, 84.63, 82.93, 84.05, 99.79, 88.54, 69.7, 57.68, 62.0, 77.41, 95.17, 50.43, 87.57, 99.78, 92.99, 61.44, 53.54, 66.96, 77.31, 88.17, 71.69, 72.95, 79.86, 76.11, 70.22, 69.04, 83.42, 96.9, 54.05, 79.11, 94.29, 71.77, 60.32, 86.97, 66.08, 64.52, 70.87, 78.31, 95.5, 85.53, 61.34, 98.04, 59.54, 82.15, 67.15, 94.44, 67.92, 58.12, 78.7, 87.43, 92.42, 86.69, 96.53, 76.0, 82.89, 62.18, 64.5, 75.71, 65.57, 69.86, 95.96, 93.91, 53.21, 96.18, 61.74, 72.5, 84.3, 88.63, 94.26, 98.12, 51.6, 66.94, 83.56, 85.29, 66.08, 97.29, 99.82, 71.76]\n"
          ]
        }
      ]
    },
    {
      "cell_type": "code",
      "source": [
        "import matplotlib.pyplot as plt"
      ],
      "metadata": {
        "id": "5nLqQrBP5JNX"
      },
      "execution_count": 34,
      "outputs": []
    },
    {
      "cell_type": "code",
      "source": [
        "plt.hist(fabrical)\n",
        "plt.title(\"Producción diara de la Fabrica 1\")"
      ],
      "metadata": {
        "colab": {
          "base_uri": "https://localhost:8080/",
          "height": 269
        },
        "id": "oGT4x3rS5LXh",
        "outputId": "cf8d545e-f0ce-4a20-efd3-a428a86fbcc8"
      },
      "execution_count": 35,
      "outputs": [
        {
          "output_type": "execute_result",
          "data": {
            "text/plain": [
              "Text(0.5, 1.0, 'Producción diara de la Fabrica 1')"
            ]
          },
          "metadata": {},
          "execution_count": 35
        },
        {
          "output_type": "display_data",
          "data": {
            "text/plain": [
              "<Figure size 640x480 with 1 Axes>"
            ],
            "image/png": "[encoded data removed]"
          },
          "metadata": {}
        }
      ]
    }
  ]
}