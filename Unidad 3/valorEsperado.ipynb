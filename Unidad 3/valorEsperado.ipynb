{
  "nbformat": 4,
  "nbformat_minor": 0,
  "metadata": {
    "colab": {
      "provenance": [],
      "authorship_tag": "ABX9TyP6bUCqhnbbjRD/zvkm3Oz4",
      "include_colab_link": true
    },
    "kernelspec": {
      "name": "python3",
      "display_name": "Python 3"
    },
    "language_info": {
      "name": "python"
    }
  },
  "cells": [
    {
      "cell_type": "markdown",
      "metadata": {
        "id": "view-in-github",
        "colab_type": "text"
      },
      "source": [
        "<a href=\"https://colab.research.google.com/github/LuisAngelFlores31/Probabilidad-y-Estadistica/blob/main/Unidad%203/valorEsperado.ipynb\" target=\"_parent\"><img src=\"https://colab.research.google.com/assets/colab-badge.svg\" alt=\"Open In Colab\"/></a>"
      ]
    },
    {
      "cell_type": "markdown",
      "source": [
        "##Probabilidad y Estadística\n",
        "Unidad 3\n",
        "\n",
        "Alumno: Luis Angel Flores Salazar\n",
        "\n",
        "Docente: Dr. José Gabriel Rodríguez Rivas"
      ],
      "metadata": {
        "id": "-ajDAJr9qaOZ"
      }
    },
    {
      "cell_type": "markdown",
      "source": [
        "##Primer ejercicio de valor esperado: Torneo de póker"
      ],
      "metadata": {
        "id": "HBaJv-bgm2G1"
      }
    },
    {
      "cell_type": "code",
      "execution_count": 8,
      "metadata": {
        "id": "RUvIC2XOmyYQ"
      },
      "outputs": [],
      "source": [
        "import numpy as np\n",
        "from scipy.stats import binom"
      ]
    },
    {
      "cell_type": "code",
      "source": [
        "X = np.array([490000, -10000])\n",
        "\n",
        "P = np.array([0.005, 0.995])\n",
        "\n",
        "# Cálculo del valor esperad\n",
        "valor_esperado = np.sum(X * P)\n",
        "\n",
        "print(f\"El valor esperado es: {valor_esperado} mil dólares\")"
      ],
      "metadata": {
        "colab": {
          "base_uri": "https://localhost:8080/"
        },
        "id": "DrPHYGO8nwaC",
        "outputId": "b966cad2-9774-490b-da54-fd04944e97c2"
      },
      "execution_count": 9,
      "outputs": [
        {
          "output_type": "stream",
          "name": "stdout",
          "text": [
            "El valor esperado es: -7500.0 mil dólares\n"
          ]
        }
      ]
    },
    {
      "cell_type": "markdown",
      "source": [
        "##Segundo ejercicio de valor esperado: Viaje en tren de Alice"
      ],
      "metadata": {
        "id": "xnDKvj-wopfu"
      }
    },
    {
      "cell_type": "code",
      "source": [
        "X = np.array([5, 305])\n",
        "P = np.array([0.95, 0.05])\n",
        "costo_esperado = np.sum(X * P)\n",
        "\n",
        "print(f\"El costo total esperado del viaje es: {costo_esperado} euros\")"
      ],
      "metadata": {
        "colab": {
          "base_uri": "https://localhost:8080/"
        },
        "id": "OpyIfi6qorFC",
        "outputId": "e8682f7c-5bf2-4b1b-f2db-bd427c2e6122"
      },
      "execution_count": 10,
      "outputs": [
        {
          "output_type": "stream",
          "name": "stdout",
          "text": [
            "El costo total esperado del viaje es: 20.0 euros\n"
          ]
        }
      ]
    },
    {
      "cell_type": "markdown",
      "source": [
        "##Tercer ejercicio de valor esperado: Dado justo de 6 caras"
      ],
      "metadata": {
        "id": "NrCDrg2WpAry"
      }
    },
    {
      "cell_type": "code",
      "source": [
        "\n",
        "valores = np.array([1, 2, 3, 4, 5, 6])\n",
        "probabilidades = np.full(6, 1/6)\n",
        "valor_esperado = np.sum(valores * probabilidades)\n",
        "\n",
        "print(\"El valor esperado del dado es:\", valor_esperado)"
      ],
      "metadata": {
        "colab": {
          "base_uri": "https://localhost:8080/"
        },
        "id": "f3nqdvzSpCd9",
        "outputId": "9a115597-dfe4-400a-99fb-e93d31612014"
      },
      "execution_count": 11,
      "outputs": [
        {
          "output_type": "stream",
          "name": "stdout",
          "text": [
            "El valor esperado del dado es: 3.5\n"
          ]
        }
      ]
    },
    {
      "cell_type": "code",
      "source": [
        "print(\"¿El número 4 tiene más probabilidad que el 6?\", 1/6 > 1/6)\n",
        "print(\"¿3.5 puede ser un resultado?\", 3.5 in valores)\n",
        "simulaciones = np.random.choice(valores, size=100000)\n",
        "promedio = np.mean(simulaciones)\n",
        "print(\"Promedio de muchos lanzamientos:\", promedio)"
      ],
      "metadata": {
        "colab": {
          "base_uri": "https://localhost:8080/"
        },
        "id": "OPbG0ubDpLPf",
        "outputId": "821e1aeb-397a-4108-c942-8af86e893575"
      },
      "execution_count": 13,
      "outputs": [
        {
          "output_type": "stream",
          "name": "stdout",
          "text": [
            "¿El número 4 tiene más probabilidad que el 6? False\n",
            "¿3.5 puede ser un resultado? False\n",
            "Promedio de muchos lanzamientos: 3.50697\n"
          ]
        }
      ]
    },
    {
      "cell_type": "markdown",
      "source": [
        "##Cuarto ejercicio de valor esperado: Apuesta de Ivy"
      ],
      "metadata": {
        "id": "LcuNMJnjqMcb"
      }
    },
    {
      "cell_type": "code",
      "source": [
        "ganancia_dragones = 10\n",
        "perdida_tortugas = -11\n",
        "prob_ganar = 0.5\n",
        "prob_perder = 0.5\n",
        "\n",
        "valor_esperado = (ganancia_dragones * prob_ganar) + (perdida_tortugas * prob_perder)\n",
        "\n",
        "print(\"El valor esperado de la apuesta es:\", valor_esperado, \"Dólares\")"
      ],
      "metadata": {
        "colab": {
          "base_uri": "https://localhost:8080/"
        },
        "id": "ANNfhhvxqO2q",
        "outputId": "9a1ae2d6-e52c-401e-c246-8416e158482a"
      },
      "execution_count": 14,
      "outputs": [
        {
          "output_type": "stream",
          "name": "stdout",
          "text": [
            "El valor esperado de la apuesta es: -0.5 Dólares\n"
          ]
        }
      ]
    }
  ]
}